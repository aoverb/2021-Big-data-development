{
  "nbformat": 4,
  "nbformat_minor": 0,
  "metadata": {
    "colab": {
      "name": "Untitled16.ipynb",
      "provenance": [],
      "collapsed_sections": []
    },
    "kernelspec": {
      "name": "python3",
      "display_name": "Python 3"
    },
    "language_info": {
      "name": "python"
    },
    "accelerator": "GPU"
  },
  "cells": [
    {
      "cell_type": "code",
      "metadata": {
        "colab": {
          "base_uri": "https://localhost:8080/"
        },
        "id": "Z8E9dQiJjwiz",
        "outputId": "60d516e8-316e-4acd-dc8a-a8034ec49700"
      },
      "source": [
        "!pip install kaggle"
      ],
      "execution_count": 1,
      "outputs": [
        {
          "output_type": "stream",
          "text": [
            "Requirement already satisfied: kaggle in /usr/local/lib/python3.7/dist-packages (1.5.12)\n",
            "Requirement already satisfied: tqdm in /usr/local/lib/python3.7/dist-packages (from kaggle) (4.41.1)\n",
            "Requirement already satisfied: python-dateutil in /usr/local/lib/python3.7/dist-packages (from kaggle) (2.8.1)\n",
            "Requirement already satisfied: certifi in /usr/local/lib/python3.7/dist-packages (from kaggle) (2021.5.30)\n",
            "Requirement already satisfied: urllib3 in /usr/local/lib/python3.7/dist-packages (from kaggle) (1.24.3)\n",
            "Requirement already satisfied: python-slugify in /usr/local/lib/python3.7/dist-packages (from kaggle) (5.0.2)\n",
            "Requirement already satisfied: requests in /usr/local/lib/python3.7/dist-packages (from kaggle) (2.23.0)\n",
            "Requirement already satisfied: six>=1.10 in /usr/local/lib/python3.7/dist-packages (from kaggle) (1.15.0)\n",
            "Requirement already satisfied: text-unidecode>=1.3 in /usr/local/lib/python3.7/dist-packages (from python-slugify->kaggle) (1.3)\n",
            "Requirement already satisfied: chardet<4,>=3.0.2 in /usr/local/lib/python3.7/dist-packages (from requests->kaggle) (3.0.4)\n",
            "Requirement already satisfied: idna<3,>=2.5 in /usr/local/lib/python3.7/dist-packages (from requests->kaggle) (2.10)\n"
          ],
          "name": "stdout"
        }
      ]
    },
    {
      "cell_type": "code",
      "metadata": {
        "id": "9pwst6tllBYu"
      },
      "source": [
        "import json\n",
        "token = {\"username\":\"aoverb\",\"key\":\"fbef37d885e55bed80b906c0e9993cf7\"}\n",
        "with open('/content/kaggle.json', 'w') as file:\n",
        "  json.dump(token, file)"
      ],
      "execution_count": 2,
      "outputs": []
    },
    {
      "cell_type": "code",
      "metadata": {
        "id": "Gbg6VgaTlRds"
      },
      "source": [
        "!mkdir -p ~/.kaggle"
      ],
      "execution_count": 3,
      "outputs": []
    },
    {
      "cell_type": "code",
      "metadata": {
        "id": "gisFKzAwlSDM"
      },
      "source": [
        "!cp /content/kaggle.json ~/.kaggle/"
      ],
      "execution_count": 4,
      "outputs": []
    },
    {
      "cell_type": "code",
      "metadata": {
        "id": "e9Vog4g3lUvk"
      },
      "source": [
        "!chmod 600 ~/.kaggle/kaggle.json"
      ],
      "execution_count": 5,
      "outputs": []
    },
    {
      "cell_type": "code",
      "metadata": {
        "colab": {
          "base_uri": "https://localhost:8080/"
        },
        "id": "FfdrSw3plWM9",
        "outputId": "31b0c52d-c191-4494-86ac-949f69c8b089"
      },
      "source": [
        "!kaggle config set -n path -v /content"
      ],
      "execution_count": 6,
      "outputs": [
        {
          "output_type": "stream",
          "text": [
            "- path is now set to: /content\n"
          ],
          "name": "stdout"
        }
      ]
    },
    {
      "cell_type": "code",
      "metadata": {
        "colab": {
          "base_uri": "https://localhost:8080/"
        },
        "id": "o4tOOuiUlX00",
        "outputId": "c89aecd9-eba5-4cbf-cbf6-97fe16e87732"
      },
      "source": [
        "!kaggle competitions download -c digit-recognizer"
      ],
      "execution_count": 7,
      "outputs": [
        {
          "output_type": "stream",
          "text": [
            "Warning: Looks like you're using an outdated API Version, please consider updating (server 1.5.12 / client 1.5.4)\n",
            "Downloading train.csv.zip to /content/competitions/digit-recognizer\n",
            "  0% 0.00/9.16M [00:00<?, ?B/s]\n",
            "100% 9.16M/9.16M [00:00<00:00, 84.0MB/s]\n",
            "Downloading test.csv.zip to /content/competitions/digit-recognizer\n",
            "  0% 0.00/6.09M [00:00<?, ?B/s]\n",
            "100% 6.09M/6.09M [00:00<00:00, 56.1MB/s]\n",
            "Downloading sample_submission.csv to /content/competitions/digit-recognizer\n",
            "  0% 0.00/235k [00:00<?, ?B/s]\n",
            "100% 235k/235k [00:00<00:00, 77.1MB/s]\n"
          ],
          "name": "stdout"
        }
      ]
    },
    {
      "cell_type": "code",
      "metadata": {
        "colab": {
          "base_uri": "https://localhost:8080/"
        },
        "id": "UwMlJKMSlek8",
        "outputId": "271abeeb-48c1-4a84-d199-8c81bf7f1f00"
      },
      "source": [
        "cd competitions/digit-recognizer/"
      ],
      "execution_count": 8,
      "outputs": [
        {
          "output_type": "stream",
          "text": [
            "/content/competitions/digit-recognizer\n"
          ],
          "name": "stdout"
        }
      ]
    },
    {
      "cell_type": "code",
      "metadata": {
        "colab": {
          "base_uri": "https://localhost:8080/"
        },
        "id": "vqflArxmlkBE",
        "outputId": "de31ef3c-f44e-4403-dcdd-cd72bf1867d2"
      },
      "source": [
        "!unzip test.csv.zip"
      ],
      "execution_count": 9,
      "outputs": [
        {
          "output_type": "stream",
          "text": [
            "Archive:  test.csv.zip\n",
            "  inflating: test.csv                \n"
          ],
          "name": "stdout"
        }
      ]
    },
    {
      "cell_type": "code",
      "metadata": {
        "colab": {
          "base_uri": "https://localhost:8080/"
        },
        "id": "3FteWVcIlppl",
        "outputId": "1e5ec00f-c7d6-40a7-99e8-8370ec84907a"
      },
      "source": [
        "!unzip train.csv.zip"
      ],
      "execution_count": 10,
      "outputs": [
        {
          "output_type": "stream",
          "text": [
            "Archive:  train.csv.zip\n",
            "  inflating: train.csv               \n"
          ],
          "name": "stdout"
        }
      ]
    },
    {
      "cell_type": "code",
      "metadata": {
        "colab": {
          "base_uri": "https://localhost:8080/"
        },
        "id": "YoCOrmd-lsSV",
        "outputId": "3895f1b2-eae3-4b5e-eaf3-5a79ebd1343b"
      },
      "source": [
        "import numpy\n",
        "from sklearn.decomposition import PCA\n",
        "from sklearn.svm import SVC\n",
        "\n",
        "with open('train.csv', 'r') as reader:\n",
        "    reader.readline()\n",
        "    train_label = []\n",
        "    train_data = []\n",
        "    for line in reader.readlines():\n",
        "        data = list(map(int, line.rstrip().split(',')))\n",
        "        train_label.append(data[0])\n",
        "        train_data.append(data[1:])\n",
        "train_label = numpy.array(train_label)\n",
        "train_data = numpy.array(train_data)\n",
        "pca = PCA(n_components = 35, whiten = True)\n",
        "pca.fit(train_data)\n",
        "train_data = pca.transform(train_data)\n",
        "svc = SVC()\n",
        "svc.fit(train_data, train_label)\n",
        "with open('test.csv', 'r') as reader:\n",
        "    reader.readline()\n",
        "    test_data = []\n",
        "    for line in reader.readlines():\n",
        "        pixels = list(map(int, line.rstrip().split(',')))\n",
        "        test_data.append(pixels)\n",
        "test_data = numpy.array(test_data)\n",
        "test_data = pca.transform(test_data)\n",
        "predict = svc.predict(test_data)\n",
        "with open('predict.csv', 'w') as writer:\n",
        "    writer.write('\"ImageId\",\"Label\"\\n')\n",
        "    count = 0\n",
        "    for p in predict:\n",
        "        count += 1\n",
        "        writer.write(str(count) + ',\"' + str(p) + '\"\\n')\n",
        "print('finished.')"
      ],
      "execution_count": 17,
      "outputs": [
        {
          "output_type": "stream",
          "text": [
            "finished.\n"
          ],
          "name": "stdout"
        }
      ]
    },
    {
      "cell_type": "code",
      "metadata": {
        "id": "Aw1lrQKswPP6"
      },
      "source": [
        "import boto\n",
        "from boto.s3.key import Key\n",
        " \n",
        "#高级连接，当然你需要配置好YOUR_ACCESS_KEY，YOUR_SECRET_KEY，我这里是配好了\n",
        "conn = boto.connect_s3()\n",
        " \n",
        "#创建一个存储桶\n",
        "conn.create_bucket('yourbucket')\n",
        "conn.create_bucket('yourbucket', location=Location.USWest)\n",
        " \n",
        "#访问一个存储桶\n",
        "bucket = conn.get_bucket('yourbucket')\n",
        "exists = conn.lookup('yourbucket')\n",
        " \n",
        "#向s3上存储数据, 数据来源可以是file、stream、or string，下面为从文件获取数据保存到s3上的test.txt文件中\n",
        "key = Key(bucket, 'hadoop/data_log/test.txt')\n",
        "key.set_contents_from_file('/tmp/hello.txt')"
      ],
      "execution_count": null,
      "outputs": []
    },
    {
      "cell_type": "code",
      "metadata": {
        "colab": {
          "base_uri": "https://localhost:8080/"
        },
        "id": "hkRlVIkRxaoC",
        "outputId": "1ffc785b-e066-4abe-a134-d6bc4fd0ea19"
      },
      "source": [
        "!pip install boto3"
      ],
      "execution_count": 21,
      "outputs": [
        {
          "output_type": "stream",
          "text": [
            "Collecting boto3\n",
            "\u001b[?25l  Downloading https://files.pythonhosted.org/packages/03/9b/dffde1a06ebcbecd44ae1805476512bd46875fb20b3f29758d85a7f35293/boto3-1.17.102-py2.py3-none-any.whl (131kB)\n",
            "\u001b[K     |████████████████████████████████| 133kB 39.4MB/s \n",
            "\u001b[?25hCollecting botocore<1.21.0,>=1.20.102\n",
            "\u001b[?25l  Downloading https://files.pythonhosted.org/packages/2f/ae/55b37b5f87c31d391fe2befa0d49c8d7fcad5a2908147ab28c44e661d029/botocore-1.20.102-py2.py3-none-any.whl (7.7MB)\n",
            "\u001b[K     |████████████████████████████████| 7.7MB 34.8MB/s \n",
            "\u001b[?25hCollecting jmespath<1.0.0,>=0.7.1\n",
            "  Downloading https://files.pythonhosted.org/packages/07/cb/5f001272b6faeb23c1c9e0acc04d48eaaf5c862c17709d20e3469c6e0139/jmespath-0.10.0-py2.py3-none-any.whl\n",
            "Collecting s3transfer<0.5.0,>=0.4.0\n",
            "\u001b[?25l  Downloading https://files.pythonhosted.org/packages/63/d0/693477c688348654ddc21dcdce0817653a294aa43f41771084c25e7ff9c7/s3transfer-0.4.2-py2.py3-none-any.whl (79kB)\n",
            "\u001b[K     |████████████████████████████████| 81kB 12.1MB/s \n",
            "\u001b[?25hCollecting urllib3<1.27,>=1.25.4\n",
            "\u001b[?25l  Downloading https://files.pythonhosted.org/packages/5f/64/43575537846896abac0b15c3e5ac678d787a4021e906703f1766bfb8ea11/urllib3-1.26.6-py2.py3-none-any.whl (138kB)\n",
            "\u001b[K     |████████████████████████████████| 143kB 57.4MB/s \n",
            "\u001b[?25hRequirement already satisfied: python-dateutil<3.0.0,>=2.1 in /usr/local/lib/python3.7/dist-packages (from botocore<1.21.0,>=1.20.102->boto3) (2.8.1)\n",
            "Requirement already satisfied: six>=1.5 in /usr/local/lib/python3.7/dist-packages (from python-dateutil<3.0.0,>=2.1->botocore<1.21.0,>=1.20.102->boto3) (1.15.0)\n",
            "\u001b[31mERROR: requests 2.23.0 has requirement urllib3!=1.25.0,!=1.25.1,<1.26,>=1.21.1, but you'll have urllib3 1.26.6 which is incompatible.\u001b[0m\n",
            "\u001b[31mERROR: datascience 0.10.6 has requirement folium==0.2.1, but you'll have folium 0.8.3 which is incompatible.\u001b[0m\n",
            "Installing collected packages: jmespath, urllib3, botocore, s3transfer, boto3\n",
            "  Found existing installation: urllib3 1.24.3\n",
            "    Uninstalling urllib3-1.24.3:\n",
            "      Successfully uninstalled urllib3-1.24.3\n",
            "Successfully installed boto3-1.17.102 botocore-1.20.102 jmespath-0.10.0 s3transfer-0.4.2 urllib3-1.26.6\n"
          ],
          "name": "stdout"
        }
      ]
    },
    {
      "cell_type": "code",
      "metadata": {
        "colab": {
          "base_uri": "https://localhost:8080/"
        },
        "id": "LX0cpN6Cnz75",
        "outputId": "12110868-e759-4430-f477-11925ab583a0"
      },
      "source": [
        "import os\n",
        "import boto3\n",
        "\n",
        "session = boto3.Session(\n",
        "   aws_access_key_id=\"XXXXXXX\",\n",
        "   aws_secret_access_key=\"XXXXXXX\",\n",
        "   region_name='XXXXXX'\n",
        ")\n",
        "\n",
        "def upload_file_to_s3(complete_file_path):\n",
        "   if complete_file_path is None:\n",
        "       raise ValueError(\"Please enter a valid and complete file path\")\n",
        "\n",
        "   session = boto3.Session(\n",
        "       aws_access_key_id=AWS_ACCESS_KEY_ID,\n",
        "       aws_secret_access_key=AWS_SECRET_ACCESS_KEY,\n",
        "       region_name='XXXXXXX'\n",
        "   )\n",
        "   s3 = session.client(\"s3\")\n",
        "   s3.upload_file(Filename=complete_file_path, Key=\"predict.csv\", Bucket=AWS_BUCKET_NAME)\n",
        "\n",
        "upload_file_to_s3(r'./predict.csv').\n",
        "print(\"uploaded successfully,\")"
      ],
      "execution_count": 27,
      "outputs": [
        {
          "output_type": "stream",
          "text": [
            "uploaded successfully,\n"
          ],
          "name": "stdout"
        }
      ]
    }
  ]
}